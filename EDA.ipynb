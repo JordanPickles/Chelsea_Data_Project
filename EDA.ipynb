{
 "cells": [
  {
   "cell_type": "code",
   "execution_count": 3,
   "metadata": {},
   "outputs": [
    {
     "name": "stdout",
     "output_type": "stream",
     "text": [
      "Requirement already satisfied: pandas in /Library/Frameworks/Python.framework/Versions/3.10/lib/python3.10/site-packages (1.5.2)\n",
      "\u001b[31mERROR: Could not find a version that satisfies the requirement as (from versions: none)\u001b[0m\u001b[31m\n",
      "\u001b[0m\n",
      "\u001b[1m[\u001b[0m\u001b[34;49mnotice\u001b[0m\u001b[1;39;49m]\u001b[0m\u001b[39;49m A new release of pip is available: \u001b[0m\u001b[31;49m24.3.1\u001b[0m\u001b[39;49m -> \u001b[0m\u001b[32;49m25.0.1\u001b[0m\n",
      "\u001b[1m[\u001b[0m\u001b[34;49mnotice\u001b[0m\u001b[1;39;49m]\u001b[0m\u001b[39;49m To update, run: \u001b[0m\u001b[32;49mpip3 install --upgrade pip\u001b[0m\n",
      "\u001b[31mERROR: No matching distribution found for as\u001b[0m\u001b[31m\n",
      "\u001b[0mNote: you may need to restart the kernel to use updated packages.\n"
     ]
    }
   ],
   "source": [
    "%pip install pandas as pd"
   ]
  },
  {
   "cell_type": "code",
   "execution_count": 4,
   "metadata": {},
   "outputs": [
    {
     "ename": "NameError",
     "evalue": "name 'Users' is not defined",
     "output_type": "error",
     "traceback": [
      "\u001b[0;31m---------------------------------------------------------------------------\u001b[0m",
      "\u001b[0;31mNameError\u001b[0m                                 Traceback (most recent call last)",
      "Cell \u001b[0;32mIn [4], line 4\u001b[0m\n\u001b[1;32m      2\u001b[0m \u001b[38;5;28;01mimport\u001b[39;00m \u001b[38;5;21;01mpandas\u001b[39;00m \u001b[38;5;28;01mas\u001b[39;00m \u001b[38;5;21;01mpd\u001b[39;00m\n\u001b[1;32m      3\u001b[0m gps_file_path \u001b[38;5;241m=\u001b[39m \u001b[38;5;124m'\u001b[39m\u001b[38;5;124m/Users/jordanpickles/Library/CloudStorage/OneDrive-Personal/Personal Data Projects/Chelsea_Data_Project/Data/CFC Physical Capability Data.csv\u001b[39m\u001b[38;5;124m'\u001b[39m\n\u001b[0;32m----> 4\u001b[0m \u001b[43mUsers\u001b[49m\u001b[38;5;241m/\u001b[39mjordanpickles\u001b[38;5;241m/\u001b[39mLibrary\u001b[38;5;241m/\u001b[39mCloudStorage\u001b[38;5;241m/\u001b[39mOneDrive\u001b[38;5;241m-\u001b[39mPersonal\u001b[38;5;241m/\u001b[39mPersonal(Data, Projects\u001b[38;5;241m/\u001b[39mChelsea_Data_Project\u001b[38;5;241m/\u001b[39mData\u001b[38;5;241m/\u001b[39mCFC, Recovery, status, Data\u001b[38;5;241m.\u001b[39mcsv)\n\u001b[1;32m      5\u001b[0m df_gps_data \u001b[38;5;241m=\u001b[39m pd\u001b[38;5;241m.\u001b[39mread_csv(gps_file_path)\n\u001b[1;32m      6\u001b[0m df_gps_data\u001b[38;5;241m.\u001b[39mhead()\n",
      "\u001b[0;31mNameError\u001b[0m: name 'Users' is not defined"
     ]
    }
   ],
   "source": [
    "## Load data\n",
    "import pandas as pd\n",
    "gps_file_path = '/Users/jordanpickles/Library/CloudStorage/OneDrive-Personal/Personal Data Projects/Chelsea_Data_Project/Data/CFC Physical Capability Data.csv'\n",
    "/Users/jordanpickles/Library/CloudStorage/OneDrive-Personal/Personal Data Projects/Chelsea_Data_Project/Data/CFC Recovery status Data.csv\n",
    "df_gps_data = pd.read_csv(gps_file_path)\n",
    "df_gps_data.head()"
   ]
  }
 ],
 "metadata": {
  "kernelspec": {
   "display_name": "Python 3",
   "language": "python",
   "name": "python3"
  },
  "language_info": {
   "codemirror_mode": {
    "name": "ipython",
    "version": 3
   },
   "file_extension": ".py",
   "mimetype": "text/x-python",
   "name": "python",
   "nbconvert_exporter": "python",
   "pygments_lexer": "ipython3",
   "version": "3.10.7"
  }
 },
 "nbformat": 4,
 "nbformat_minor": 2
}
